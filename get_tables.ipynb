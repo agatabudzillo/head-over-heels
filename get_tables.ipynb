{
 "cells": [
  {
   "cell_type": "markdown",
   "metadata": {},
   "source": [
    "# This first notebook is for pulling down the relevant data from the Synapse API, storing resulting table information in dataframes, and generating a list of file paths to downloaded accelerometer files that will be needed to access the data itself. Note that accessing the actual data requires access to the Synapse API."
   ]
  },
  {
   "cell_type": "code",
   "execution_count": 1,
   "metadata": {
    "collapsed": false
   },
   "outputs": [
    {
     "name": "stdout",
     "output_type": "stream",
     "text": [
      "Once deleted, variables cannot be recovered. Proceed (y/[n])? n\n",
      "Nothing done.\n"
     ]
    }
   ],
   "source": [
    "%reset"
   ]
  },
  {
   "cell_type": "code",
   "execution_count": 2,
   "metadata": {
    "collapsed": true
   },
   "outputs": [],
   "source": [
    "import synapseclient\n",
    "import numpy as np\n",
    "import pandas as pd"
   ]
  },
  {
   "cell_type": "code",
   "execution_count": 3,
   "metadata": {
    "collapsed": false
   },
   "outputs": [],
   "source": [
    "# Login into the Synapse Client\n",
    "\n",
    "syn = synapseclient.Synapse()\n",
    "\n",
    "# Enter login and password\n",
    "#syn.login('login','password')"
   ]
  },
  {
   "cell_type": "markdown",
   "metadata": {},
   "source": [
    "# Query demographics table"
   ]
  },
  {
   "cell_type": "code",
   "execution_count": 14,
   "metadata": {
    "collapsed": false
   },
   "outputs": [],
   "source": [
    "demographicstable = syn.tableQuery('select * from syn5511429')"
   ]
  },
  {
   "cell_type": "markdown",
   "metadata": {},
   "source": [
    "# Query iPhone6 and iPhone6Plus accelerometer data"
   ]
  },
  {
   "cell_type": "code",
   "execution_count": 15,
   "metadata": {
    "collapsed": false
   },
   "outputs": [
    {
     "name": "stdout",
     "output_type": "stream",
     "text": [
      "Downloading 0 files, 23152 cached locally\n",
      "Downloading 0 files, 23152 cached locally\n"
     ]
    }
   ],
   "source": [
    "walkingtable = syn.tableQuery(\"select * from syn5511449 where phoneInfo = 'iPhone 6' or phoneInfo = 'iPhone 6 Plus'\")\n",
    "walking_df = walkingtable.asDataFrame()\n",
    "\n",
    "\n",
    "walking_df = walking_df.drop(['createdOn', 'appVersion', 'phoneInfo','accel_walking_outbound.json.items',\n",
    "                              'pedometer_walking_outbound.json.items','accel_walking_return.json.items',\n",
    "                              'deviceMotion_walking_return.json.items','pedometer_walking_return.json.items',\n",
    "                              'accel_walking_rest.json.items'],axis=1)\n",
    "\n",
    "walking_df = walking_df.dropna()\n",
    "\n",
    "filePaths_DMoutbound = syn.downloadTableColumns(walkingtable, ['deviceMotion_walking_outbound.json.items'])\n",
    "filePaths_DMrest = syn.downloadTableColumns(walkingtable, ['deviceMotion_walking_rest.json.items'])"
   ]
  },
  {
   "cell_type": "markdown",
   "metadata": {},
   "source": [
    "# Store in dataframes"
   ]
  },
  {
   "cell_type": "code",
   "execution_count": 16,
   "metadata": {
    "collapsed": false
   },
   "outputs": [],
   "source": [
    "demographics_df=demographicstable.asDataFrame()\n",
    "\n",
    "wlist = np.arange(len(walking_df))\n",
    "\n",
    "DMoutboundPathlist=[filePaths_DMoutbound[str(int(walking_df.ix[entry,'deviceMotion_walking_outbound.json.items']))] for entry in wlist] \n",
    "DMrestPathlist = [filePaths_DMrest[str(int(walking_df.ix[entry,'deviceMotion_walking_rest.json.items']))] for entry in wlist]\n",
    "\n",
    "walking_df['DMoutboundPaths'] = DMoutboundPathlist\n",
    "walking_df['DMrestPaths'] = DMrestPathlist"
   ]
  },
  {
   "cell_type": "markdown",
   "metadata": {},
   "source": [
    "# Pickle the dataframes and filepath lists"
   ]
  },
  {
   "cell_type": "code",
   "execution_count": 17,
   "metadata": {
    "collapsed": false
   },
   "outputs": [],
   "source": [
    "demographics_df.to_pickle('demographics_df.pkl')\n",
    "walking_df.to_pickle('walking_df.pkl')"
   ]
  }
 ],
 "metadata": {
  "kernelspec": {
   "display_name": "Python 2",
   "language": "python",
   "name": "python2"
  },
  "language_info": {
   "codemirror_mode": {
    "name": "ipython",
    "version": 2
   },
   "file_extension": ".py",
   "mimetype": "text/x-python",
   "name": "python",
   "nbconvert_exporter": "python",
   "pygments_lexer": "ipython2",
   "version": "2.7.11"
  }
 },
 "nbformat": 4,
 "nbformat_minor": 0
}
